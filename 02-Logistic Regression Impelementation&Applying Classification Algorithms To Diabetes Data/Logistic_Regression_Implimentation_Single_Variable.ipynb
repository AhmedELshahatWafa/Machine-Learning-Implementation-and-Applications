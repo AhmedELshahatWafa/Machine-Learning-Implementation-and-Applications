{
 "cells": [
  {
   "cell_type": "code",
   "execution_count": 30,
   "metadata": {},
   "outputs": [],
   "source": [
    "import pandas as pd \n",
    "import numpy as np \n",
    "import matplotlib.pyplot as plt\n",
    "import math\n",
    "import seaborn as sns\n",
    "import warnings\n",
    "warnings.filterwarnings(\"ignore\")"
   ]
  },
  {
   "cell_type": "code",
   "execution_count": 31,
   "metadata": {},
   "outputs": [],
   "source": [
    "x = np.array([1,2,3,4,5,6,7,8,9,10,11,12,13,14,15,16,17,18,19,20]) "
   ]
  },
  {
   "cell_type": "code",
   "execution_count": 32,
   "metadata": {},
   "outputs": [],
   "source": [
    "y = np.array([0,0,0,0,0,0,1,0,0,0,1,1,1,1,1,1,1,1,1,1]) "
   ]
  },
  {
   "cell_type": "code",
   "execution_count": 33,
   "metadata": {
    "scrolled": true
   },
   "outputs": [
    {
     "data": {
      "text/plain": [
       "<matplotlib.collections.PathCollection at 0x1700c1c5f70>"
      ]
     },
     "execution_count": 33,
     "metadata": {},
     "output_type": "execute_result"
    },
    {
     "data": {
      "image/png": "[encoded data removed]",
      "text/plain": [
       "<Figure size 432x288 with 1 Axes>"
      ]
     },
     "metadata": {
      "needs_background": "light"
     },
     "output_type": "display_data"
    }
   ],
   "source": [
    "plt.scatter(x= x, y = y)"
   ]
  },
  {
   "cell_type": "code",
   "execution_count": null,
   "metadata": {},
   "outputs": [],
   "source": []
  },
  {
   "cell_type": "code",
   "execution_count": null,
   "metadata": {
    "scrolled": false
   },
   "outputs": [],
   "source": []
  },
  {
   "cell_type": "code",
   "execution_count": 34,
   "metadata": {},
   "outputs": [],
   "source": [
    "def sigmoid(x):\n",
    "    return 1 / (1+math.e**((-x)))"
   ]
  },
  {
   "cell_type": "code",
   "execution_count": 35,
   "metadata": {},
   "outputs": [],
   "source": [
    "# vals = np.linspace(-50,50,100)\n",
    "# plt.plot(vals,sigmoid(vals))"
   ]
  },
  {
   "cell_type": "code",
   "execution_count": 37,
   "metadata": {},
   "outputs": [],
   "source": [
    "def GradientDecent_Logistic(x,y,n_iter= 10000, learning_Rate = .1):\n",
    "    theta_0 = 0   \n",
    "    theta_1 = 0\n",
    "    \n",
    "    \n",
    "    for i in range(n_iter):\n",
    "        \n",
    "        predict_H_theta = sigmoid(theta_0 + theta_1 * x)\n",
    "        \n",
    "        theta_0_Grad = 1/len(x) * sum(predict_H_theta - y)\n",
    "        theta_1_Grad = 1/len(x) * sum((predict_H_theta - y)*x) \n",
    "        \n",
    "        theta_0 = theta_0 - learning_Rate * theta_0_Grad\n",
    "        theta_1 = theta_1 - learning_Rate * theta_1_Grad\n",
    "        \n",
    "    return predict_H_theta , theta_0 , theta_1"
   ]
  },
  {
   "cell_type": "code",
   "execution_count": 38,
   "metadata": {},
   "outputs": [],
   "source": [
    "predicted, theta0 ,theta1 = GradientDecent_Logistic(x,y)"
   ]
  },
  {
   "cell_type": "code",
   "execution_count": 39,
   "metadata": {},
   "outputs": [
    {
     "data": {
      "text/plain": [
       "[<matplotlib.lines.Line2D at 0x1700c11b7c0>]"
      ]
     },
     "execution_count": 39,
     "metadata": {},
     "output_type": "execute_result"
    },
    {
     "data": {
      "image/png": "[encoded data removed]",
      "text/plain": [
       "<Figure size 432x288 with 1 Axes>"
      ]
     },
     "metadata": {
      "needs_background": "light"
     },
     "output_type": "display_data"
    }
   ],
   "source": [
    "plt.scatter(x= x, y = y)\n",
    "plt.plot(np.linspace(0,20),sigmoid(theta0 + theta1 *np.linspace(0,20) ))\n"
   ]
  },
  {
   "cell_type": "code",
   "execution_count": null,
   "metadata": {},
   "outputs": [],
   "source": []
  },
  {
   "cell_type": "code",
   "execution_count": 20,
   "metadata": {},
   "outputs": [],
   "source": [
    "arr = np.concatenate((np.linspace(1,10,10).reshape(10,1), np.linspace(11,20,10).reshape(10,1)),axis = 1)"
   ]
  },
  {
   "cell_type": "code",
   "execution_count": 21,
   "metadata": {},
   "outputs": [
    {
     "data": {
      "text/plain": [
       "<matplotlib.collections.PathCollection at 0x1700c25bb80>"
      ]
     },
     "execution_count": 21,
     "metadata": {},
     "output_type": "execute_result"
    },
    {
     "data": {
      "image/png": "[encoded data removed]",
      "text/plain": [
       "<Figure size 432x288 with 1 Axes>"
      ]
     },
     "metadata": {
      "needs_background": "light"
     },
     "output_type": "display_data"
    }
   ],
   "source": [
    "plt.scatter(arr[:,0],arr[:,1])"
   ]
  },
  {
   "cell_type": "code",
   "execution_count": null,
   "metadata": {},
   "outputs": [],
   "source": []
  },
  {
   "cell_type": "code",
   "execution_count": 22,
   "metadata": {},
   "outputs": [],
   "source": [
    "arr =  np.concatenate((np.ones(len(arr)).reshape(-1,1),arr), axis = 1)"
   ]
  },
  {
   "cell_type": "code",
   "execution_count": 23,
   "metadata": {},
   "outputs": [],
   "source": [
    "y = np.array([0,0,0,0,0,1,1,1,1,1])"
   ]
  },
  {
   "cell_type": "code",
   "execution_count": null,
   "metadata": {},
   "outputs": [],
   "source": []
  },
  {
   "cell_type": "code",
   "execution_count": 24,
   "metadata": {},
   "outputs": [],
   "source": [
    "def GradientDecentMulti_Logistic(input_matrix,outputVector,alpha=0.001,n_iter= 10000):\n",
    "    m = len(input_matrix)\n",
    "    lst_thetas = np.zeros(len(input_matrix[0])) \n",
    "    learning_Rate = alpha\n",
    "    loss_vals = []\n",
    "    for i in range(n_iter):\n",
    "        \n",
    "        #gettin the predicted data vector \n",
    "        predict_data_vector = sigmoid(np.dot(input_matrix,lst_thetas))\n",
    "        \n",
    "        #GRADIENT VECTOR\n",
    "        grad_vector = np.dot(input_matrix.T,(predict_data_vector - outputVector))/m\n",
    "\n",
    "        #updating thetas\n",
    "        lst_thetas = lst_thetas -  learning_Rate* grad_vector\n",
    "        \n",
    "    print(lst_thetas)\n",
    "    \n",
    "    return lst_thetas \n",
    "\n",
    "\n",
    "def predict(lst_thetas, input_matrix):\n",
    "    return sigmoid(input_matrix @ ls_thetas)"
   ]
  },
  {
   "cell_type": "code",
   "execution_count": 25,
   "metadata": {},
   "outputs": [
    {
     "data": {
      "text/plain": [
       "array([0, 0, 0, 0, 0, 1, 1, 1, 1, 1])"
      ]
     },
     "execution_count": 25,
     "metadata": {},
     "output_type": "execute_result"
    }
   ],
   "source": [
    "y"
   ]
  },
  {
   "cell_type": "code",
   "execution_count": 26,
   "metadata": {},
   "outputs": [
    {
     "name": "stdout",
     "output_type": "stream",
     "text": [
      "[-0.23473585  1.74912108 -0.59823746]\n"
     ]
    }
   ],
   "source": [
    "ls_thetas =  GradientDecentMulti_Logistic(arr,y)"
   ]
  },
  {
   "cell_type": "code",
   "execution_count": 27,
   "metadata": {},
   "outputs": [
    {
     "data": {
      "text/plain": [
       "array([0.00626665, 0.01954412, 0.0592752 , 0.16609272, 0.3863473 ,\n",
       "       0.66556443, 0.86283925, 0.95211841, 0.9843397 , 0.99499214])"
      ]
     },
     "execution_count": 27,
     "metadata": {},
     "output_type": "execute_result"
    }
   ],
   "source": [
    "predict(ls_thetas,arr)"
   ]
  },
  {
   "cell_type": "code",
   "execution_count": 28,
   "metadata": {},
   "outputs": [
    {
     "data": {
      "text/plain": [
       "array([[ 1.,  1., 11.],\n",
       "       [ 1.,  2., 12.],\n",
       "       [ 1.,  3., 13.],\n",
       "       [ 1.,  4., 14.],\n",
       "       [ 1.,  5., 15.],\n",
       "       [ 1.,  6., 16.],\n",
       "       [ 1.,  7., 17.],\n",
       "       [ 1.,  8., 18.],\n",
       "       [ 1.,  9., 19.],\n",
       "       [ 1., 10., 20.]])"
      ]
     },
     "execution_count": 28,
     "metadata": {},
     "output_type": "execute_result"
    }
   ],
   "source": [
    "arr"
   ]
  },
  {
   "cell_type": "code",
   "execution_count": 29,
   "metadata": {},
   "outputs": [
    {
     "data": {
      "text/plain": [
       "<AxesSubplot:>"
      ]
     },
     "execution_count": 29,
     "metadata": {},
     "output_type": "execute_result"
    },
    {
     "data": {
      "image/png": "[encoded data removed]",
      "text/plain": [
       "<Figure size 432x288 with 1 Axes>"
      ]
     },
     "metadata": {
      "needs_background": "light"
     },
     "output_type": "display_data"
    }
   ],
   "source": [
    "sns.scatterplot(arr[:,1],arr[:,2],hue =y)"
   ]
  },
  {
   "cell_type": "code",
   "execution_count": null,
   "metadata": {},
   "outputs": [],
   "source": []
  }
 ],
 "metadata": {
  "kernelspec": {
   "display_name": "Python 3",
   "language": "python",
   "name": "python3"
  },
  "language_info": {
   "codemirror_mode": {
    "name": "ipython",
    "version": 3
   },
   "file_extension": ".py",
   "mimetype": "text/x-python",
   "name": "python",
   "nbconvert_exporter": "python",
   "pygments_lexer": "ipython3",
   "version": "3.8.5"
  }
 },
 "nbformat": 4,
 "nbformat_minor": 4
}
